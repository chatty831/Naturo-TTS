{
 "cells": [
  {
   "cell_type": "code",
   "execution_count": null,
   "id": "34fc863a",
   "metadata": {},
   "outputs": [],
   "source": [
    "from download import parse_multiple_urls, download_youtube_content\n",
    "\n",
    "# Your YouTube video URL\n",
    "url_string = \"https://www.youtube.com/watch?v=oHry5RRI4KU\"\n",
    "\n",
    "# Parse and validate the URL\n",
    "urls = parse_multiple_urls(url_string)\n",
    "\n",
    "# Download audio only (MP3)\n",
    "x = download_youtube_content(\n",
    "    urls,\n",
    "    output_path=\"downloads\",  # or any directory you want\n",
    "    max_workers=1,            # single URL, so 1 worker is fine\n",
    "    audio_only=True           # <— this makes it download MP3 audio only\n",
    ")\n",
    "x\n"
   ]
  },
  {
   "cell_type": "code",
   "execution_count": null,
   "id": "d498b54d",
   "metadata": {},
   "outputs": [],
   "source": [
    "x[0]['info']['automatic_captions']['hi-orig']"
   ]
  },
  {
   "cell_type": "code",
   "execution_count": null,
   "id": "e7628926",
   "metadata": {},
   "outputs": [],
   "source": [
    "import re\n",
    "\n",
    "def extract_word_timestamps(vtt_path):\n",
    "    \"\"\"\n",
    "    Extract individual word timestamps from a VTT file that contains\n",
    "    inline <timestamp><c>word</c> patterns.\n",
    "\n",
    "    Returns a list of [timestamp, word] pairs.\n",
    "    \"\"\"\n",
    "    results = []\n",
    "\n",
    "    # pattern for <00:00:00.240><c>WORD</c>\n",
    "    word_pattern = re.compile(r\"<(\\d\\d:\\d\\d:\\d\\d\\.\\d+)><c>([^<]+)</c>\")\n",
    "\n",
    "    with open(vtt_path, \"r\", encoding=\"utf-8\") as f:\n",
    "        for line in f:\n",
    "            line = line.strip()\n",
    "            # find all matches in line\n",
    "            for match in word_pattern.findall(line):\n",
    "                ts, word = match\n",
    "                results.append([ts, word.strip()])\n",
    "\n",
    "    return results\n",
    "\n",
    "# Example usage:\n",
    "word_list = extract_word_timestamps(\"downloads\\Ind-Pak War, Indian Army Operations, Weapons & Kargil - Capt Yashika Tyagi ｜ FO352 Raj Shamani.mp3.hi.vtt\")\n",
    "word_list\n"
   ]
  },
  {
   "cell_type": "code",
   "execution_count": 2,
   "id": "f1c987dc",
   "metadata": {},
   "outputs": [],
   "source": [
    "import soundfile as sf\n",
    "\n",
    "# Load the original MP3 file (first 300 seconds)\n",
    "input_path = 'downloads/Ind-Pak War, Indian Army Operations, Weapons & Kargil - Capt Yashika Tyagi ｜ FO352 Raj Shamani.mp3.mp3'\n",
    "output_path = 'audio.wav'\n",
    "\n",
    "# Read only the first 300 seconds (5 minutes)\n",
    "with sf.SoundFile(input_path) as f:\n",
    "    samplerate = f.samplerate\n",
    "    frames_to_read = int(30 * samplerate)\n",
    "    audio = f.read(frames=frames_to_read)\n",
    "\n",
    "# Save to WAV\n",
    "sf.write(output_path, audio, samplerate)"
   ]
  },
  {
   "cell_type": "code",
   "execution_count": 1,
   "id": "e4156fc1",
   "metadata": {},
   "outputs": [
    {
     "name": "stderr",
     "output_type": "stream",
     "text": [
      "c:\\Users\\chait\\.conda\\envs\\venv\\Lib\\site-packages\\huggingface_hub\\file_download.py:937: FutureWarning: The `force_filename` parameter is deprecated as a new caching system, which keeps the filenames as they are on the Hub, is now in place.\n",
      "  warnings.warn(\n",
      "c:\\Users\\chait\\.conda\\envs\\venv\\Lib\\site-packages\\huggingface_hub\\file_download.py:980: UserWarning: `local_dir_use_symlinks` parameter is deprecated and will be ignored. The process to download files to a local folder has been updated and do not rely on symlinks anymore. You only need to pass a destination folder as`local_dir`.\n",
      "For more details, check out https://huggingface.co/docs/huggingface_hub/main/en/guides/download#download-files-to-local-folder.\n",
      "  warnings.warn(\n"
     ]
    },
    {
     "name": "stdout",
     "output_type": "stream",
     "text": [
      "Resampling the audio from 48000 Hz to 8000 Hz\n"
     ]
    }
   ],
   "source": [
    "from speechbrain.inference.separation import SepformerSeparation as separator\n",
    "from speechbrain.utils.fetching import LocalStrategy\n",
    "import torchaudio\n",
    "import os\n",
    "os.add_dll_directory(\"C:\\\\ffmpeg\\\\bin\\\\\")\n",
    "\n",
    "model = separator.from_hparams(\n",
    "    source=\"speechbrain/sepformer-wsj02mix\",\n",
    "    savedir='pretrained_models/sepformer-wsj02mix',\n",
    "    local_strategy=LocalStrategy.COPY_SKIP_CACHE,\n",
    "    run_opts={\"device\":\"cuda\"},\n",
    ")\n",
    "\n",
    "# for custom file, change path\n",
    "est_sources = model.separate_file(path='audio.wav')"
   ]
  },
  {
   "cell_type": "code",
   "execution_count": 2,
   "id": "3fcb000a",
   "metadata": {},
   "outputs": [],
   "source": [
    "torchaudio.save(\"source1hat.wav\", est_sources[:, :, 0].detach().cpu(), 8000)\n",
    "torchaudio.save(\"source2hat.wav\", est_sources[:, :, 1].detach().cpu(), 8000)"
   ]
  }
 ],
 "metadata": {
  "kernelspec": {
   "display_name": "venv",
   "language": "python",
   "name": "python3"
  },
  "language_info": {
   "codemirror_mode": {
    "name": "ipython",
    "version": 3
   },
   "file_extension": ".py",
   "mimetype": "text/x-python",
   "name": "python",
   "nbconvert_exporter": "python",
   "pygments_lexer": "ipython3",
   "version": "3.11.13"
  }
 },
 "nbformat": 4,
 "nbformat_minor": 5
}
